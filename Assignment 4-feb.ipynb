{
 "cells": [
  {
   "cell_type": "code",
   "execution_count": null,
   "id": "3f99449b-1a25-4688-8b9d-d65893f25f90",
   "metadata": {},
   "outputs": [],
   "source": [
    "Q1"
   ]
  },
  {
   "cell_type": "code",
   "execution_count": null,
   "id": "4fa85607-d94f-40a3-b481-973767865c0c",
   "metadata": {},
   "outputs": [],
   "source": [
    "print(\"Sorted List of Tuples based on Integer Value:\")\n",
    "for player in sorted_stats:\n",
    "    print(player)"
   ]
  },
  {
   "cell_type": "code",
   "execution_count": 5,
   "id": "9898d067-e879-4c8a-8ad2-4dbaec2daf8a",
   "metadata": {},
   "outputs": [
    {
     "name": "stdout",
     "output_type": "stream",
     "text": [
      "sorted list:\n",
      "('Jack Kallis', 2554)\n",
      "('Virat Kohli', 24936)\n",
      "('Ricky Ponting', 25534)\n",
      "('Sachin tendulkar', 34357)\n"
     ]
    }
   ],
   "source": [
    "list_of_tuples = [('Sachin tendulkar', 34357), ('Ricky Ponting', 25534), ('Jack Kallis', 2554), ('Virat Kohli', 24936)]\n",
    "\n",
    "sort = sorted(list_of_tuples, key=lambda x: x[1])\n",
    "              \n",
    "print(\"sorted list:\")\n",
    "\n",
    "for i in sort:\n",
    "    print(i)"
   ]
  },
  {
   "cell_type": "code",
   "execution_count": null,
   "id": "1a8003b7-c241-4913-a937-417859c6d8fd",
   "metadata": {},
   "outputs": [],
   "source": [
    "Q2"
   ]
  },
  {
   "cell_type": "code",
   "execution_count": 6,
   "id": "e20abf7d-cac4-4562-8ce3-c27157a97705",
   "metadata": {},
   "outputs": [
    {
     "data": {
      "text/plain": [
       "[1, 4, 9, 16, 25, 36, 49, 64, 81, 100]"
      ]
     },
     "execution_count": 6,
     "metadata": {},
     "output_type": "execute_result"
    }
   ],
   "source": [
    "l =[1,2,3,4,5,6,7,8,9,10]\n",
    "list(map(lambda x: x**2, l))"
   ]
  },
  {
   "cell_type": "code",
   "execution_count": null,
   "id": "817f3b0a-9f36-4c60-a8fc-8f9864b4cac4",
   "metadata": {},
   "outputs": [],
   "source": [
    "Q3"
   ]
  },
  {
   "cell_type": "code",
   "execution_count": 6,
   "id": "38efb2e1-5b95-48ce-8f0a-24942b316ab1",
   "metadata": {},
   "outputs": [
    {
     "data": {
      "text/plain": [
       "('1', '2', '3', '4', '5', '6', '7', '8', '9', '10')"
      ]
     },
     "execution_count": 6,
     "metadata": {},
     "output_type": "execute_result"
    }
   ],
   "source": [
    "l = [1,2,3,4,5,6,7,8,9,10]\n",
    "tuple(map(lambda x: str(x), l))"
   ]
  },
  {
   "cell_type": "code",
   "execution_count": 9,
   "id": "d80f9fa1-cc78-4a5c-8b3f-db21e84ecad9",
   "metadata": {},
   "outputs": [],
   "source": [
    "from functools import reduce"
   ]
  },
  {
   "cell_type": "code",
   "execution_count": 10,
   "id": "5c4e4727-5217-49c8-89c0-d376a95823e3",
   "metadata": {},
   "outputs": [],
   "source": [
    "Q4"
   ]
  },
  {
   "cell_type": "code",
   "execution_count": 13,
   "id": "4153f9e4-caec-4550-8b9c-9cc320069892",
   "metadata": {},
   "outputs": [
    {
     "name": "stdout",
     "output_type": "stream",
     "text": [
      "The product is: 15511210043330985984000000\n"
     ]
    }
   ],
   "source": [
    "number = [x for x in range(1,26)]\n",
    "product = reduce(lambda x,y :x*y, number)\n",
    "print(\"The product is:\",product)"
   ]
  },
  {
   "cell_type": "code",
   "execution_count": null,
   "id": "8dd1bd76-7462-4de0-82c9-8adf3e0a6415",
   "metadata": {},
   "outputs": [],
   "source": [
    "Q5"
   ]
  },
  {
   "cell_type": "code",
   "execution_count": 15,
   "id": "37180d23-f0d8-4b40-968a-4d18c907a56d",
   "metadata": {},
   "outputs": [
    {
     "data": {
      "text/plain": [
       "[6, 60, 90, 120]"
      ]
     },
     "execution_count": 15,
     "metadata": {},
     "output_type": "execute_result"
    }
   ],
   "source": [
    "l = [2,3,6,9,27,60,90,120,55,46]\n",
    "list(filter(lambda x: x%2==0 and x%3==0, l))"
   ]
  },
  {
   "cell_type": "code",
   "execution_count": null,
   "id": "765fc547-b6ed-4bb9-9f77-3d894b98f2f4",
   "metadata": {},
   "outputs": [],
   "source": [
    "Q6"
   ]
  },
  {
   "cell_type": "code",
   "execution_count": 18,
   "id": "0960930e-e37c-4e7b-92fd-45906d2281d9",
   "metadata": {},
   "outputs": [
    {
     "name": "stdout",
     "output_type": "stream",
     "text": [
      "The pallindromes are: ['php', 'aba', 'radar', 'level']\n"
     ]
    }
   ],
   "source": [
    "String = ['python', 'php', 'aba', 'radar', 'level']\n",
    "pallindrome = list(filter(lambda x: x==x[::-1], String))\n",
    "print(\"The pallindromes are:\",pallindrome)"
   ]
  },
  {
   "cell_type": "code",
   "execution_count": null,
   "id": "aec308cf-9b97-4731-b901-0df3ab6b84be",
   "metadata": {},
   "outputs": [],
   "source": []
  }
 ],
 "metadata": {
  "kernelspec": {
   "display_name": "Python 3 (ipykernel)",
   "language": "python",
   "name": "python3"
  },
  "language_info": {
   "codemirror_mode": {
    "name": "ipython",
    "version": 3
   },
   "file_extension": ".py",
   "mimetype": "text/x-python",
   "name": "python",
   "nbconvert_exporter": "python",
   "pygments_lexer": "ipython3",
   "version": "3.10.6"
  }
 },
 "nbformat": 4,
 "nbformat_minor": 5
}
